{
 "cells": [
  {
   "cell_type": "code",
   "execution_count": 1,
   "metadata": {
    "collapsed": false
   },
   "outputs": [],
   "source": [
    "from time import sleep\n",
    "from __future__ import division\n",
    "from web3 import Web3, HTTPProvider\n",
    "import json\n",
    "\n",
    "import pandas\n",
    "import numpy as np\n",
    "import matplotlib.pyplot as plt\n",
    "import seaborn\n",
    "seaborn.set_style(\"whitegrid\")\n",
    "seaborn.despine()\n",
    "%matplotlib inline\n",
    "%config InlineBackend.figure_formats = {'svg',}\n",
    "\n",
    "# Connect to the network\n",
    "web3 = Web3(HTTPProvider('http://localhost:8545'))\n",
    "\n",
    "# Get contract signature\n",
    "with open('../ethereum/build/contracts/Market.json') as energy_file:    \n",
    "    energy_json = json.load(energy_file)\n",
    "contract_abi = energy_json['abi']\n",
    "network_id = energy_json['networks'].keys()[-1]\n",
    "contract_address = energy_json['networks'][network_id]['address']\n",
    "\n",
    "# List accounts and set default account\n",
    "accounts = web3.eth.accounts\n",
    "web3.eth.defaultAccount = accounts[0]\n",
    "contract = web3.eth.contract(contract_abi, contract_address)\n",
    "energy_posted_event = contract.on('energy_posted_event', filter_params={'fromBlock': 'earliest'})\n",
    "participant_at_clearing_request = contract.on('participant_at_clearing_request', filter_params={'fromBlock': 'earliest'})\n",
    "market_cleared_event = contract.on('market_cleared_event', filter_params={'fromBlock': 'earliest'})\n",
    "bill_sent_event = contract.on('bill_sent_event', filter_params={'fromBlock': 'earliest'})"
   ]
  },
  {
   "cell_type": "code",
   "execution_count": 2,
   "metadata": {
    "collapsed": false
   },
   "outputs": [
    {
     "name": "stdout",
     "output_type": "stream",
     "text": [
      "Number of accounts 10\n",
      "Estimated gas per participant added 92294 ETH\n",
      "Number of participants 10\n"
     ]
    }
   ],
   "source": [
    "print('Number of accounts ' + str(len(accounts)))\n",
    "\n",
    "# Estimated gas\n",
    "gas = contract.estimateGas().add_participant()\n",
    "print('Estimated gas per participant added ' + str(gas) + ' ETH')\n",
    "\n",
    "# Add all participants\n",
    "for account in accounts:\n",
    "    trans_hash = contract.transact({'from': account, 'to': contract_address, 'gas': 900000}).add_participant()\n",
    "\n",
    "    \n",
    "# Check how many participants have been added\n",
    "print('Number of participants ' + str(contract.call().number_of_participant()))"
   ]
  },
  {
   "cell_type": "code",
   "execution_count": 3,
   "metadata": {
    "collapsed": true
   },
   "outputs": [],
   "source": [
    "def wait_until_trans_receipt(trans_hash):\n",
    "    status = None\n",
    "    while status is None:\n",
    "        sleep(0.2)\n",
    "        status = web3.eth.getTransactionReceipt(trans_hash)"
   ]
  },
  {
   "cell_type": "code",
   "execution_count": 5,
   "metadata": {
    "collapsed": false
   },
   "outputs": [
    {
     "name": "stdout",
     "output_type": "stream",
     "text": [
      "Total energy balance 1225 wh\n",
      "Estimated gas per participation 68318 ETH\n",
      "Estimated gas to clear market 87771 ETH\n"
     ]
    }
   ],
   "source": [
    "energy_balances = [100, 500, 600, 200, 300, -100, -100, -200, -25, -50]\n",
    "print('Total energy balance ' + str(sum(energy_balances)) + ' wh')\n",
    "assert(len(accounts) == len(energy_balances))\n",
    "\n",
    "# Estimated gas\n",
    "gas = contract.estimateGas().post_energy_balance(int(10))\n",
    "print('Estimated gas per participation ' + str(gas) + ' ETH')\n",
    "\n",
    "# Post consumption and production for each account\n",
    "for account, energy_balance in zip(accounts, energy_balances):\n",
    "    temp = {'from': account, 'to': contract_address, 'gas': 900000}\n",
    "    trans_hash = contract.transact(temp).post_energy_balance(int(energy_balance))\n",
    "    wait_until_trans_receipt(trans_hash)\n",
    "\n",
    "# Estimated gas\n",
    "gas = contract.estimateGas().clear_market()\n",
    "print('Estimated gas to clear market ' + str(gas) + ' ETH')\n",
    "\n",
    "# Clear the market\n",
    "contract.transact({'to': contract_address, 'gas': 4000000}).clear_market()\n",
    "wait_until_trans_receipt(trans_hash)\n",
    "\n",
    "# time.sleep(3)\n",
    "\n",
    "# # Estimated gas\n",
    "# gas = contract.estimateGas().bill_all_participants()\n",
    "# print('Estimated gas to bill participants ' + str(gas) + ' ETH')\n",
    "\n",
    "# contract.transact({'to': contract_address, 'gas': 4000000}).bill_all_participants()"
   ]
  },
  {
   "cell_type": "code",
   "execution_count": 110,
   "metadata": {
    "collapsed": false
   },
   "outputs": [
    {
     "data": {
      "text/plain": [
       "[{'address': u'0xfc5303c96a7fc61c9b3fa0e368885c5aebb73652',\n",
       "  'args': {u'_nbparticipation': 10, u'_totparticipant': 10},\n",
       "  'blockHash': u'0x0a2997c912907ab59e5cae6fa950d75cdecc89851812916b05c7ed033db5e219',\n",
       "  'blockNumber': 28,\n",
       "  'event': u'participant_at_clearing_request',\n",
       "  'logIndex': 0,\n",
       "  'transactionHash': u'0x0cbcecf88ac42c6df932be3523917e41d8410d910141f4bc9ffab3003f5652db',\n",
       "  'transactionIndex': 0},\n",
       " {'address': u'0xfc5303c96a7fc61c9b3fa0e368885c5aebb73652',\n",
       "  'args': {u'_nbparticipation': 10, u'_totparticipant': 10},\n",
       "  'blockHash': u'0x0f514a64494c713b1db429846b5dd9f45c23bcc7ced783b4d0164f6e41e2e125',\n",
       "  'blockNumber': 39,\n",
       "  'event': u'participant_at_clearing_request',\n",
       "  'logIndex': 0,\n",
       "  'transactionHash': u'0x44b101b5c154cabc7d1ab5d0cfffb76379e9621794d795b846de564c95d4e8a1',\n",
       "  'transactionIndex': 0},\n",
       " {'address': u'0xfc5303c96a7fc61c9b3fa0e368885c5aebb73652',\n",
       "  'args': {u'_nbparticipation': 10, u'_totparticipant': 10},\n",
       "  'blockHash': u'0x5d35094672cc44452386ce423d8e936845310ae5a2f242b4196d064aa5128638',\n",
       "  'blockNumber': 50,\n",
       "  'event': u'participant_at_clearing_request',\n",
       "  'logIndex': 0,\n",
       "  'transactionHash': u'0x544b2e5c16e31c3973ac8b78962d72b2d1bbbd12421d3f90013d9aafa95628e2',\n",
       "  'transactionIndex': 0},\n",
       " {'address': u'0xfc5303c96a7fc61c9b3fa0e368885c5aebb73652',\n",
       "  'args': {u'_nbparticipation': 10, u'_totparticipant': 10},\n",
       "  'blockHash': u'0xd0ad405797ee8d7259cd4dbee30e8d568914d80ca01c214d5397782789120a2a',\n",
       "  'blockNumber': 61,\n",
       "  'event': u'participant_at_clearing_request',\n",
       "  'logIndex': 0,\n",
       "  'transactionHash': u'0xc1c3f98778a41014d51790ba6908a331c76a40c9c8ec8a15ec4b16c70631b588',\n",
       "  'transactionIndex': 0},\n",
       " {'address': u'0xfc5303c96a7fc61c9b3fa0e368885c5aebb73652',\n",
       "  'args': {u'_nbparticipation': 20, u'_totparticipant': 10},\n",
       "  'blockHash': u'0xc1f55e63011406be3ddbc1092758ec6790e900b17b8bd872902ae6f91e39f530',\n",
       "  'blockNumber': 72,\n",
       "  'event': u'participant_at_clearing_request',\n",
       "  'logIndex': 0,\n",
       "  'transactionHash': u'0x78622983da7698a89b16a3919f083998c6e88a5b2f718192986b1363f0db920e',\n",
       "  'transactionIndex': 0},\n",
       " {'address': u'0xfc5303c96a7fc61c9b3fa0e368885c5aebb73652',\n",
       "  'args': {u'_nbparticipation': 30, u'_totparticipant': 10},\n",
       "  'blockHash': u'0x26251684881ffdec7e453360846f2077795f25640da3c37a8971bef9bea1e928',\n",
       "  'blockNumber': 83,\n",
       "  'event': u'participant_at_clearing_request',\n",
       "  'logIndex': 0,\n",
       "  'transactionHash': u'0x67e34f3cf11ef93ec29e70e79139e30a648b6affc305819a818ab7c8e6232a06',\n",
       "  'transactionIndex': 0},\n",
       " {'address': u'0xfc5303c96a7fc61c9b3fa0e368885c5aebb73652',\n",
       "  'args': {u'_nbparticipation': 10, u'_totparticipant': 10},\n",
       "  'blockHash': u'0xb73ab204958143a5843c3005ca54da5a7b5557b454cd8f2763f2897d52d316ac',\n",
       "  'blockNumber': 94,\n",
       "  'event': u'participant_at_clearing_request',\n",
       "  'logIndex': 0,\n",
       "  'transactionHash': u'0x531e0d8b51a31e14f1008595d5f66e5e8ac43f22e500adfacf210fbab0176016',\n",
       "  'transactionIndex': 0},\n",
       " {'address': u'0xfc5303c96a7fc61c9b3fa0e368885c5aebb73652',\n",
       "  'args': {u'_nbparticipation': 10, u'_totparticipant': 10},\n",
       "  'blockHash': u'0xe4ce571fa8697bdc4ca6b6304df749a135373d1630aee1af9aec08203b564027',\n",
       "  'blockNumber': 105,\n",
       "  'event': u'participant_at_clearing_request',\n",
       "  'logIndex': 0,\n",
       "  'transactionHash': u'0xbfb2d0c5e23aadb3b53b0a45033b9843ec4b3d6abdecf12c3c654c6e78cbee1d',\n",
       "  'transactionIndex': 0},\n",
       " {'address': u'0xfc5303c96a7fc61c9b3fa0e368885c5aebb73652',\n",
       "  'args': {u'_nbparticipation': 10, u'_totparticipant': 10},\n",
       "  'blockHash': u'0x5146b931a68fa4b21cedcb7487209d5118852aca824b068a2bb151777039e302',\n",
       "  'blockNumber': 116,\n",
       "  'event': u'participant_at_clearing_request',\n",
       "  'logIndex': 0,\n",
       "  'transactionHash': u'0x1160c6671c149d7dac47e7ac38825f06c760b69a555991d161d834bc24edf0a9',\n",
       "  'transactionIndex': 0}]"
      ]
     },
     "execution_count": 110,
     "metadata": {},
     "output_type": "execute_result"
    }
   ],
   "source": [
    "participant_at_clearing_request.get(only_changes=False)"
   ]
  },
  {
   "cell_type": "code",
   "execution_count": 78,
   "metadata": {
    "collapsed": false
   },
   "outputs": [
    {
     "data": {
      "text/plain": [
       "[{'address': u'0x5e599d37de8bfbc1fb7584debf9ec39b376447a4',\n",
       "  'args': {u'_buy': 105,\n",
       "   u'_gen': 475,\n",
       "   u'_prod': 1700,\n",
       "   u'_sell': 120,\n",
       "   u'ratio': 357},\n",
       "  'blockHash': u'0xa0f451c5288eb95f82e0bd767a0785d2cb812d3a6213baa4c840b812c4909b67',\n",
       "  'blockNumber': 28,\n",
       "  'event': u'market_cleared_event',\n",
       "  'logIndex': 1,\n",
       "  'transactionHash': u'0x1753c9c1fdf3cdcc66bd6ffb1c7c9100a8633bcc39ca9162214b1aff1a6b21ad',\n",
       "  'transactionIndex': 0}]"
      ]
     },
     "execution_count": 78,
     "metadata": {},
     "output_type": "execute_result"
    }
   ],
   "source": [
    "market_cleared_event.get(only_changes=False)"
   ]
  },
  {
   "cell_type": "code",
   "execution_count": 79,
   "metadata": {
    "collapsed": false
   },
   "outputs": [
    {
     "data": {
      "text/plain": [
       "[{'address': u'0x5e599d37de8bfbc1fb7584debf9ec39b376447a4',\n",
       "  'args': {u'_target': u'0xa0cddae21dc9bdd024f023e857ebac9b00a36d1f',\n",
       "   u'_value': 100},\n",
       "  'blockHash': u'0x4f296eeaf104f29c5fd6fdf2b6051fe20a8f0e0dda352eae7162b33fccc188ea',\n",
       "  'blockNumber': 18,\n",
       "  'event': u'energy_posted_event',\n",
       "  'logIndex': 0,\n",
       "  'transactionHash': u'0x81548af6e5719e58325ccb3fae47361177e44dc22e460e0d1bd486c54b5e28cc',\n",
       "  'transactionIndex': 0},\n",
       " {'address': u'0x5e599d37de8bfbc1fb7584debf9ec39b376447a4',\n",
       "  'args': {u'_target': u'0x9d442647c69f925cf9c7162fc2d431a1026d230c',\n",
       "   u'_value': 500},\n",
       "  'blockHash': u'0xfb1d04e5814e43f9d8bd285234398fb4c7d9b809670c94bc02ac1f0691b37b19',\n",
       "  'blockNumber': 19,\n",
       "  'event': u'energy_posted_event',\n",
       "  'logIndex': 0,\n",
       "  'transactionHash': u'0x2e529c09f555427067d83213b99db0de0f46d40e6eeee092ad663311d119aa03',\n",
       "  'transactionIndex': 0},\n",
       " {'address': u'0x5e599d37de8bfbc1fb7584debf9ec39b376447a4',\n",
       "  'args': {u'_target': u'0x3780e31b33ca1c553de442da52c74f9f7c824447',\n",
       "   u'_value': 600},\n",
       "  'blockHash': u'0x51ab2f88d679417bc102d1f7146aa10c7d446b0209fd58c7451bef1301ec8161',\n",
       "  'blockNumber': 20,\n",
       "  'event': u'energy_posted_event',\n",
       "  'logIndex': 0,\n",
       "  'transactionHash': u'0x8f8d582ffae4517541643562c13826fdc7fce76bda78a51f5af25a7cd4c7da94',\n",
       "  'transactionIndex': 0},\n",
       " {'address': u'0x5e599d37de8bfbc1fb7584debf9ec39b376447a4',\n",
       "  'args': {u'_target': u'0x70ad664a4fb8c2f700ed953e9512087ea6a33b3b',\n",
       "   u'_value': 200},\n",
       "  'blockHash': u'0x75599ac67e5cdf000b8547a1babcb4856226d093eb70b4df58b447e6e32e28ee',\n",
       "  'blockNumber': 21,\n",
       "  'event': u'energy_posted_event',\n",
       "  'logIndex': 0,\n",
       "  'transactionHash': u'0xec6af3cc05cc71707a8b1119b2bae7c07e75ff16c1f597085e2fee8e07b79526',\n",
       "  'transactionIndex': 0},\n",
       " {'address': u'0x5e599d37de8bfbc1fb7584debf9ec39b376447a4',\n",
       "  'args': {u'_target': u'0x774f7a5ccc108754be2aef1660ca52712c72f6ee',\n",
       "   u'_value': 300},\n",
       "  'blockHash': u'0x7ce6d23768b02a1da10f342139c1172a76866234273a5fa4e9ea223946ab9682',\n",
       "  'blockNumber': 22,\n",
       "  'event': u'energy_posted_event',\n",
       "  'logIndex': 0,\n",
       "  'transactionHash': u'0xc204ddf80b9f0c76a29b488a0595501e10f5ea3221a15ed1645c7b7afd73c3f5',\n",
       "  'transactionIndex': 0},\n",
       " {'address': u'0x5e599d37de8bfbc1fb7584debf9ec39b376447a4',\n",
       "  'args': {u'_target': u'0xb8cbc9acb0d1c065b86263ec81e6fefd8208c6bf',\n",
       "   u'_value': -100L},\n",
       "  'blockHash': u'0xfd088a6cc5a79513103f4e4472d9793373a2f75ece1c7cc66b9e8f937e4bf40c',\n",
       "  'blockNumber': 23,\n",
       "  'event': u'energy_posted_event',\n",
       "  'logIndex': 0,\n",
       "  'transactionHash': u'0xc6256377113f11398d475f0ab7fdb6dc1fd772060bae0a131f2ec33afe40de2b',\n",
       "  'transactionIndex': 0},\n",
       " {'address': u'0x5e599d37de8bfbc1fb7584debf9ec39b376447a4',\n",
       "  'args': {u'_target': u'0xe88d286833b88ed2e47d9d5285fe10b135ee470d',\n",
       "   u'_value': -100L},\n",
       "  'blockHash': u'0xf38f7c43aaeab5d550ddea98d4625e6e50d9d75ab329966852efb67a98bed828',\n",
       "  'blockNumber': 24,\n",
       "  'event': u'energy_posted_event',\n",
       "  'logIndex': 0,\n",
       "  'transactionHash': u'0xc6256377113f11398d475f0ab7fdb6dc1fd772060bae0a131f2ec33afe40de2b',\n",
       "  'transactionIndex': 0},\n",
       " {'address': u'0x5e599d37de8bfbc1fb7584debf9ec39b376447a4',\n",
       "  'args': {u'_target': u'0xfd0af80492ae0b72a353283430bb12a00324764f',\n",
       "   u'_value': -200L},\n",
       "  'blockHash': u'0x74f35995ddfce76d34db229fa059b30690a560eef36602bfe1f6227a1b2f5579',\n",
       "  'blockNumber': 25,\n",
       "  'event': u'energy_posted_event',\n",
       "  'logIndex': 0,\n",
       "  'transactionHash': u'0xaa02fb1e3f13a90296e3792e772b042a1c0f063d064153fca54e7c7e346ef2c2',\n",
       "  'transactionIndex': 0},\n",
       " {'address': u'0x5e599d37de8bfbc1fb7584debf9ec39b376447a4',\n",
       "  'args': {u'_target': u'0xd6c45ac07d0f05d09fac71e195135c9494036eac',\n",
       "   u'_value': -25L},\n",
       "  'blockHash': u'0x7d3de93d3ee3c77c564a4a0e2cf4717eb974957b17ca5cdbbe137cbf8d637c6a',\n",
       "  'blockNumber': 26,\n",
       "  'event': u'energy_posted_event',\n",
       "  'logIndex': 0,\n",
       "  'transactionHash': u'0x89203b2eddce90d3af01be8afce995502deb5017c2d32263b79676cb08ceef01',\n",
       "  'transactionIndex': 0},\n",
       " {'address': u'0x5e599d37de8bfbc1fb7584debf9ec39b376447a4',\n",
       "  'args': {u'_target': u'0x74233a417b72613c210abb3e1080d854a0b5d4a2',\n",
       "   u'_value': -50L},\n",
       "  'blockHash': u'0xeb0564d45a61585ca4e7214b5db3e8a34c91e211fad59304c05e6a8f1ed8672b',\n",
       "  'blockNumber': 27,\n",
       "  'event': u'energy_posted_event',\n",
       "  'logIndex': 0,\n",
       "  'transactionHash': u'0x133ed795374c3b9afcbe4628e0f92206de1bdb296477365a7e071909d5546b85',\n",
       "  'transactionIndex': 0}]"
      ]
     },
     "execution_count": 79,
     "metadata": {},
     "output_type": "execute_result"
    }
   ],
   "source": [
    "energy_posted_event.get(only_changes=False)"
   ]
  },
  {
   "cell_type": "code",
   "execution_count": 80,
   "metadata": {
    "collapsed": false
   },
   "outputs": [
    {
     "data": {
      "text/plain": [
       "[{'address': u'0x5e599d37de8bfbc1fb7584debf9ec39b376447a4',\n",
       "  'args': {u'_target': u'0xa0cddae21dc9bdd024f023e857ebac9b00a36d1f',\n",
       "   u'_value': 10500},\n",
       "  'blockHash': u'0xa0f451c5288eb95f82e0bd767a0785d2cb812d3a6213baa4c840b812c4909b67',\n",
       "  'blockNumber': 28,\n",
       "  'event': u'bill_sent_event',\n",
       "  'logIndex': 2,\n",
       "  'transactionHash': u'0x1753c9c1fdf3cdcc66bd6ffb1c7c9100a8633bcc39ca9162214b1aff1a6b21ad',\n",
       "  'transactionIndex': 0},\n",
       " {'address': u'0x5e599d37de8bfbc1fb7584debf9ec39b376447a4',\n",
       "  'args': {u'_target': u'0x9d442647c69f925cf9c7162fc2d431a1026d230c',\n",
       "   u'_value': 52500},\n",
       "  'blockHash': u'0xa0f451c5288eb95f82e0bd767a0785d2cb812d3a6213baa4c840b812c4909b67',\n",
       "  'blockNumber': 28,\n",
       "  'event': u'bill_sent_event',\n",
       "  'logIndex': 3,\n",
       "  'transactionHash': u'0x1753c9c1fdf3cdcc66bd6ffb1c7c9100a8633bcc39ca9162214b1aff1a6b21ad',\n",
       "  'transactionIndex': 0},\n",
       " {'address': u'0x5e599d37de8bfbc1fb7584debf9ec39b376447a4',\n",
       "  'args': {u'_target': u'0x3780e31b33ca1c553de442da52c74f9f7c824447',\n",
       "   u'_value': 63000},\n",
       "  'blockHash': u'0xa0f451c5288eb95f82e0bd767a0785d2cb812d3a6213baa4c840b812c4909b67',\n",
       "  'blockNumber': 28,\n",
       "  'event': u'bill_sent_event',\n",
       "  'logIndex': 4,\n",
       "  'transactionHash': u'0x1753c9c1fdf3cdcc66bd6ffb1c7c9100a8633bcc39ca9162214b1aff1a6b21ad',\n",
       "  'transactionIndex': 0},\n",
       " {'address': u'0x5e599d37de8bfbc1fb7584debf9ec39b376447a4',\n",
       "  'args': {u'_target': u'0x70ad664a4fb8c2f700ed953e9512087ea6a33b3b',\n",
       "   u'_value': 21000},\n",
       "  'blockHash': u'0xa0f451c5288eb95f82e0bd767a0785d2cb812d3a6213baa4c840b812c4909b67',\n",
       "  'blockNumber': 28,\n",
       "  'event': u'bill_sent_event',\n",
       "  'logIndex': 5,\n",
       "  'transactionHash': u'0x1753c9c1fdf3cdcc66bd6ffb1c7c9100a8633bcc39ca9162214b1aff1a6b21ad',\n",
       "  'transactionIndex': 0},\n",
       " {'address': u'0x5e599d37de8bfbc1fb7584debf9ec39b376447a4',\n",
       "  'args': {u'_target': u'0x774f7a5ccc108754be2aef1660ca52712c72f6ee',\n",
       "   u'_value': 31500},\n",
       "  'blockHash': u'0xa0f451c5288eb95f82e0bd767a0785d2cb812d3a6213baa4c840b812c4909b67',\n",
       "  'blockNumber': 28,\n",
       "  'event': u'bill_sent_event',\n",
       "  'logIndex': 6,\n",
       "  'transactionHash': u'0x1753c9c1fdf3cdcc66bd6ffb1c7c9100a8633bcc39ca9162214b1aff1a6b21ad',\n",
       "  'transactionIndex': 0},\n",
       " {'address': u'0x5e599d37de8bfbc1fb7584debf9ec39b376447a4',\n",
       "  'args': {u'_target': u'0xb8cbc9acb0d1c065b86263ec81e6fefd8208c6bf',\n",
       "   u'_value': -12000L},\n",
       "  'blockHash': u'0xa0f451c5288eb95f82e0bd767a0785d2cb812d3a6213baa4c840b812c4909b67',\n",
       "  'blockNumber': 28,\n",
       "  'event': u'bill_sent_event',\n",
       "  'logIndex': 7,\n",
       "  'transactionHash': u'0x1753c9c1fdf3cdcc66bd6ffb1c7c9100a8633bcc39ca9162214b1aff1a6b21ad',\n",
       "  'transactionIndex': 0},\n",
       " {'address': u'0x5e599d37de8bfbc1fb7584debf9ec39b376447a4',\n",
       "  'args': {u'_target': u'0xe88d286833b88ed2e47d9d5285fe10b135ee470d',\n",
       "   u'_value': -12000L},\n",
       "  'blockHash': u'0xa0f451c5288eb95f82e0bd767a0785d2cb812d3a6213baa4c840b812c4909b67',\n",
       "  'blockNumber': 28,\n",
       "  'event': u'bill_sent_event',\n",
       "  'logIndex': 8,\n",
       "  'transactionHash': u'0x1753c9c1fdf3cdcc66bd6ffb1c7c9100a8633bcc39ca9162214b1aff1a6b21ad',\n",
       "  'transactionIndex': 0},\n",
       " {'address': u'0x5e599d37de8bfbc1fb7584debf9ec39b376447a4',\n",
       "  'args': {u'_target': u'0xfd0af80492ae0b72a353283430bb12a00324764f',\n",
       "   u'_value': -24000L},\n",
       "  'blockHash': u'0xa0f451c5288eb95f82e0bd767a0785d2cb812d3a6213baa4c840b812c4909b67',\n",
       "  'blockNumber': 28,\n",
       "  'event': u'bill_sent_event',\n",
       "  'logIndex': 9,\n",
       "  'transactionHash': u'0x1753c9c1fdf3cdcc66bd6ffb1c7c9100a8633bcc39ca9162214b1aff1a6b21ad',\n",
       "  'transactionIndex': 0},\n",
       " {'address': u'0x5e599d37de8bfbc1fb7584debf9ec39b376447a4',\n",
       "  'args': {u'_target': u'0xd6c45ac07d0f05d09fac71e195135c9494036eac',\n",
       "   u'_value': -3000L},\n",
       "  'blockHash': u'0xa0f451c5288eb95f82e0bd767a0785d2cb812d3a6213baa4c840b812c4909b67',\n",
       "  'blockNumber': 28,\n",
       "  'event': u'bill_sent_event',\n",
       "  'logIndex': 10,\n",
       "  'transactionHash': u'0x1753c9c1fdf3cdcc66bd6ffb1c7c9100a8633bcc39ca9162214b1aff1a6b21ad',\n",
       "  'transactionIndex': 0},\n",
       " {'address': u'0x5e599d37de8bfbc1fb7584debf9ec39b376447a4',\n",
       "  'args': {u'_target': u'0x74233a417b72613c210abb3e1080d854a0b5d4a2',\n",
       "   u'_value': -6000L},\n",
       "  'blockHash': u'0xa0f451c5288eb95f82e0bd767a0785d2cb812d3a6213baa4c840b812c4909b67',\n",
       "  'blockNumber': 28,\n",
       "  'event': u'bill_sent_event',\n",
       "  'logIndex': 11,\n",
       "  'transactionHash': u'0x1753c9c1fdf3cdcc66bd6ffb1c7c9100a8633bcc39ca9162214b1aff1a6b21ad',\n",
       "  'transactionIndex': 0}]"
      ]
     },
     "execution_count": 80,
     "metadata": {},
     "output_type": "execute_result"
    }
   ],
   "source": [
    "bill_sent_event.get(only_changes=False)"
   ]
  }
 ],
 "metadata": {
  "anaconda-cloud": {},
  "kernelspec": {
   "display_name": "Python [Root]",
   "language": "python",
   "name": "Python [Root]"
  },
  "language_info": {
   "codemirror_mode": {
    "name": "ipython",
    "version": 2
   },
   "file_extension": ".py",
   "mimetype": "text/x-python",
   "name": "python",
   "nbconvert_exporter": "python",
   "pygments_lexer": "ipython2",
   "version": "2.7.12"
  }
 },
 "nbformat": 4,
 "nbformat_minor": 0
}
